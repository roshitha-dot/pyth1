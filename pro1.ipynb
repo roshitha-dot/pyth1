{
 "cells": [
  {
   "cell_type": "code",
   "execution_count": 1,
   "id": "411f6230-deac-4b6a-beb7-253d472ce2a6",
   "metadata": {},
   "outputs": [
    {
     "name": "stdout",
     "output_type": "stream",
     "text": [
      "roshitha\n"
     ]
    }
   ],
   "source": [
    "print(\"roshitha\")"
   ]
  },
  {
   "cell_type": "code",
   "execution_count": 2,
   "id": "9632f212-e8fe-40bf-9879-bb4bc75166e3",
   "metadata": {},
   "outputs": [
    {
     "name": "stdout",
     "output_type": "stream",
     "text": [
      "4\n"
     ]
    }
   ],
   "source": [
    "print(4)"
   ]
  },
  {
   "cell_type": "code",
   "execution_count": 3,
   "id": "b54e613b-afac-4345-ac2b-cc0214f583c5",
   "metadata": {},
   "outputs": [
    {
     "name": "stdout",
     "output_type": "stream",
     "text": [
      "['False', 'None', 'True', 'and', 'as', 'assert', 'async', 'await', 'break', 'class', 'continue', 'def', 'del', 'elif', 'else', 'except', 'finally', 'for', 'from', 'global', 'if', 'import', 'in', 'is', 'lambda', 'nonlocal', 'not', 'or', 'pass', 'raise', 'return', 'try', 'while', 'with', 'yield']\n"
     ]
    }
   ],
   "source": [
    "import keyword\n",
    "print(keyword.kwlist)"
   ]
  },
  {
   "cell_type": "code",
   "execution_count": 4,
   "id": "9c0772b9-c80c-425d-b0ee-c146fcdd2820",
   "metadata": {},
   "outputs": [
    {
     "name": "stdout",
     "output_type": "stream",
     "text": [
      "roshitha \n",
      "\n"
     ]
    }
   ],
   "source": [
    "print(\"roshitha \\n\")"
   ]
  },
  {
   "cell_type": "code",
   "execution_count": 5,
   "id": "5753c3c5-acb1-4c88-bbfe-b6b4de922d01",
   "metadata": {},
   "outputs": [
    {
     "name": "stdout",
     "output_type": "stream",
     "text": [
      "Roshitha here\n",
      "<class 'str'>\n"
     ]
    }
   ],
   "source": [
    "name=\"Roshitha here\"\n",
    "print(name)\n",
    "print (type(name))"
   ]
  },
  {
   "cell_type": "code",
   "execution_count": 6,
   "id": "3a60978f-202b-4770-b20d-83c52f0b4638",
   "metadata": {},
   "outputs": [
    {
     "name": "stdout",
     "output_type": "stream",
     "text": [
      "10\n",
      "<class 'int'>\n"
     ]
    }
   ],
   "source": [
    "x=10\n",
    "print(x)\n",
    "print(type(x)) "
   ]
  },
  {
   "cell_type": "code",
   "execution_count": 7,
   "id": "68c5dd34-be22-4d45-b894-bda7b43b4486",
   "metadata": {},
   "outputs": [
    {
     "name": "stdout",
     "output_type": "stream",
     "text": [
      "0.5\n",
      "<class 'float'>\n"
     ]
    }
   ],
   "source": [
    "y=0.5\n",
    "print(y)\n",
    "print(type(y))"
   ]
  },
  {
   "cell_type": "code",
   "execution_count": 8,
   "id": "6d427d02-14ad-47d2-9570-eeee15563efc",
   "metadata": {},
   "outputs": [
    {
     "name": "stdout",
     "output_type": "stream",
     "text": [
      "True\n",
      "<class 'bool'>\n"
     ]
    }
   ],
   "source": [
    "isbool=True\n",
    "print(isbool)\n",
    "print(type(isbool))"
   ]
  },
  {
   "cell_type": "code",
   "execution_count": 9,
   "id": "ec831833-19f3-41fb-b2b0-8244fa1daf5f",
   "metadata": {},
   "outputs": [
    {
     "name": "stdout",
     "output_type": "stream",
     "text": [
      "35\n",
      "Data Type of Weight is <class 'int'>\n"
     ]
    }
   ],
   "source": [
    "w=35.5\n",
    "w = int(w)\n",
    "\n",
    "print(w)\n",
    "\n",
    "print(\"Data Type of Weight is\", type(w))"
   ]
  },
  {
   "cell_type": "code",
   "execution_count": 10,
   "id": "7e5b4a2d-7e55-4d65-9dc2-5f492f6b9f70",
   "metadata": {},
   "outputs": [
    {
     "name": "stdout",
     "output_type": "stream",
     "text": [
      "Number 1 45\n",
      "Number 2 3\n",
      "Addition : 48\n",
      "Difference : 42\n",
      "Product : 135\n",
      "Division : 15.0\n",
      "Floor Division : 15\n",
      "Modulus Operation : 0\n",
      "Square : 9\n",
      "Square Root : 6.708203932499369\n"
     ]
    }
   ],
   "source": [
    "num1 = 45\n",
    "num2 = 3\n",
    "print(\"Number 1\", num1)\n",
    "print(\"Number 2\", num2)\n",
    "print(\"Addition :\", num1+num2)\n",
    "print(\"Difference :\", num1-num2)\n",
    "print(\"Product :\", num1*num2)\n",
    "print(\"Division :\", num1/num2)\n",
    "print(\"Floor Division :\", num1//num2)\n",
    "print(\"Modulus Operation :\", num1%num2)\n",
    "print(\"Square :\", num2**2)\n",
    "print(\"Square Root :\", num1**0.5)"
   ]
  },
  {
   "cell_type": "code",
   "execution_count": null,
   "id": "25e125bd-5373-4f4a-81ec-d89ba34eb346",
   "metadata": {},
   "outputs": [],
   "source": []
  }
 ],
 "metadata": {
  "kernelspec": {
   "display_name": "Python 3 (ipykernel)",
   "language": "python",
   "name": "python3"
  },
  "language_info": {
   "codemirror_mode": {
    "name": "ipython",
    "version": 3
   },
   "file_extension": ".py",
   "mimetype": "text/x-python",
   "name": "python",
   "nbconvert_exporter": "python",
   "pygments_lexer": "ipython3",
   "version": "3.12.4"
  }
 },
 "nbformat": 4,
 "nbformat_minor": 5
}
